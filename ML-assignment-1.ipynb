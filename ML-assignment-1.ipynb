{
 "cells": [
  {
   "cell_type": "markdown",
   "id": "3fcd918e",
   "metadata": {},
   "source": [
    "# Question1"
   ]
  },
  {
   "cell_type": "code",
   "execution_count": 3,
   "id": "a75b333e",
   "metadata": {},
   "outputs": [],
   "source": [
    " import numpy as np\n",
    "\n",
    "# Q1 (a)\n",
    "arr = np.array([1, 2, 3, 6, 4, 5])\n",
    "reversed_arr = arr[::-1]\n",
    "\n",
    "# Q1 (b)\n",
    "matrix = np.array([[1, 2, 3], [2, 4, 5], [1, 2, 3]])\n",
    "flat1 = matrix.flatten()\n",
    "flat2 = matrix.ravel()\n",
    "\n",
    "# Q1 (c)\n",
    "a = np.array([[1, 2], [3, 4]])\n",
    "b = np.array([[1, 2], [3, 4]])\n",
    "are_equal = np.array_equal(a, b)\n",
    "\n",
    "# Q1 (d)\n",
    "x = np.array([1, 2, 3, 4, 5, 1, 2, 1, 1, 1])\n",
    "values, counts = np.unique(x, return_counts=True)\n",
    "most_freq = values[np.argmax(counts)]\n",
    "indices = np.where(x == most_freq)[0]\n",
    "\n",
    "y = np.array([1, 1, 1, 2, 3, 4, 2, 4, 3, 3])\n",
    "vals, cnts = np.unique(y, return_counts=True)\n",
    "freq_val = vals[np.argmax(cnts)]\n",
    "freq_indices = np.where(y == freq_val)[0]\n",
    "\n",
    "# Q1 (e)\n",
    "m = np.matrix('[4, 1, 9; 12, 3, 1; 4, 5, 6]')\n",
    "total = m.sum()\n",
    "row_total = m.sum(axis=1)\n",
    "col_total = m.sum(axis=0)\n",
    "\n",
    "# Q1 (f)\n",
    "n = np.array([[55, 25, 15], [30, 44, 2], [11, 45, 77]])\n",
    "diag_sum = np.trace(n)\n",
    "e_vals, e_vecs = np.linalg.eig(n)\n",
    "inv = np.linalg.inv(n)\n",
    "det = np.linalg.det(n)\n",
    "\n",
    "# Q1 (g)\n",
    "p = np.array([[1, 2], [2, 3]])\n",
    "q = np.array([[4, 5], [6, 7]])\n",
    "product1 = np.dot(p, q)\n",
    "cov_p = np.cov(p.T)\n",
    "cov_q = np.cov(q.T)\n",
    "\n",
    "p2 = np.array([[1, 2], [2, 3], [4, 5]])\n",
    "q2 = np.array([[4, 5, 1], [6, 7, 2]])\n",
    "product2 = np.dot(p2, q2)\n",
    "cov_p2 = np.cov(p2.T)\n",
    "cov_q2 = np.cov(q2.T)\n",
    "\n",
    "# Q1 (h)\n",
    "x = np.array([[2, 3, 4], [3, 2, 9]])\n",
    "y = np.array([[1, 5, 0], [5, 10, 3]])\n",
    "inner = np.inner(x, y)\n",
    "outer = np.outer(x.flatten(), y.flatten())\n",
    "cartesian = np.array(np.meshgrid(x.flatten(), y.flatten())).T.reshape(-1, 2)\n"
   ]
  },
  {
   "cell_type": "markdown",
   "id": "606c3ebd",
   "metadata": {},
   "source": [
    "# Question-2"
   ]
  },
  {
   "cell_type": "code",
   "execution_count": 4,
   "id": "7f2f7ead",
   "metadata": {},
   "outputs": [],
   "source": [
    "# (a)\n",
    "data = np.array([[1, -2, 3], [-4, 5, -6]])\n",
    "abs_vals = np.abs(data)\n",
    "flat = data.flatten()\n",
    "\n",
    "p25 = np.percentile(flat, 25)\n",
    "p50 = np.percentile(flat, 50)\n",
    "p75 = np.percentile(flat, 75)\n",
    "\n",
    "p_cols = np.percentile(data, [25, 50, 75], axis=0)\n",
    "p_rows = np.percentile(data, [25, 50, 75], axis=1)\n",
    "\n",
    "mean_flat = np.mean(flat)\n",
    "median_flat = np.median(flat)\n",
    "std_flat = np.std(flat)\n",
    "\n",
    "mean_cols = np.mean(data, axis=0)\n",
    "median_cols = np.median(data, axis=0)\n",
    "std_cols = np.std(data, axis=0)\n",
    "\n",
    "mean_rows = np.mean(data, axis=1)\n",
    "median_rows = np.median(data, axis=1)\n",
    "std_rows = np.std(data, axis=1)\n",
    "\n",
    "# (b)\n",
    "nums = np.array([-1.8, -1.6, -0.5, 0.5, 1.6, 1.8, 3.0])\n",
    "floor_vals = np.floor(nums)\n",
    "ceil_vals = np.ceil(nums)\n",
    "trunc_vals = np.trunc(nums)\n",
    "round_vals = np.round(nums)\n"
   ]
  },
  {
   "cell_type": "markdown",
   "id": "995e47ef",
   "metadata": {},
   "source": [
    "# Question 3"
   ]
  },
  {
   "cell_type": "code",
   "execution_count": 5,
   "id": "3f926840",
   "metadata": {},
   "outputs": [],
   "source": [
    "# (a)\n",
    "arr = np.array([10, 52, 62, 16, 16, 54, 453])\n",
    "sorted_arr = np.sort(arr)\n",
    "sorted_idx = np.argsort(arr)\n",
    "smallest_4 = sorted_arr[:4]\n",
    "largest_5 = sorted_arr[-5:]\n",
    "\n",
    "# (b)\n",
    "mixed = np.array([1.0, 1.2, 2.2, 2.0, 3.0, 2.0])\n",
    "integers = mixed[mixed == mixed.astype(int)]\n",
    "floats = mixed[mixed != mixed.astype(int)]\n"
   ]
  },
  {
   "cell_type": "markdown",
   "id": "1aa4b24b",
   "metadata": {},
   "source": [
    "# Question 4"
   ]
  },
  {
   "cell_type": "code",
   "execution_count": null,
   "id": "27d14d7e",
   "metadata": {},
   "outputs": [],
   "source": [
    "from PIL import Image\n",
    "# (a) \n",
    "def img_to_array(path, save_path=\"image_array.txt\"):\n",
    "    img = Image.open(path)\n",
    "    img_arr = np.array(img)\n",
    "    if len(img_arr.shape) == 2:\n",
    "        mode = \"gray\"\n",
    "    else:\n",
    "        mode = \"rgb\"\n",
    "    np.savetxt(save_path, img_arr.reshape(-1, img_arr.shape[-1]) if mode == \"rgb\" else img_arr, fmt='%d')\n",
    "    return mode, img_arr.shape\n",
    "\n",
    "# (b)\n",
    "def load_saved_image_array(file_path):\n",
    "    return np.loadtxt(file_path, dtype=int)\n"
   ]
  }
 ],
 "metadata": {
  "kernelspec": {
   "display_name": "Python 3 (ipykernel)",
   "language": "python",
   "name": "python3"
  },
  "language_info": {
   "codemirror_mode": {
    "name": "ipython",
    "version": 3
   },
   "file_extension": ".py",
   "mimetype": "text/x-python",
   "name": "python",
   "nbconvert_exporter": "python",
   "pygments_lexer": "ipython3",
   "version": "3.10.9"
  }
 },
 "nbformat": 4,
 "nbformat_minor": 5
}
